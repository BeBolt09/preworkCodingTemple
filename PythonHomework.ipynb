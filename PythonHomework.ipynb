{
 "cells": [
  {
   "cell_type": "markdown",
   "metadata": {},
   "source": [
    "Please write a Python function, max_num_in_list to return the max number of a given list. The first line of the code has been defined as below.\n",
    "\n",
    "\n",
    "    def max_num_in_list(a_list):\n",
    "        .....\n"
   ]
  },
  {
   "cell_type": "code",
   "execution_count": 34,
   "metadata": {},
   "outputs": [
    {
     "data": {
      "text/plain": [
       "900"
      ]
     },
     "execution_count": 34,
     "metadata": {},
     "output_type": "execute_result"
    }
   ],
   "source": [
    "def max_num_in_list(a_list):\n",
    "    max_num=0\n",
    "    for num in a_list:\n",
    "        if num>max_num:\n",
    "            max_num=num\n",
    "    return max_num\n",
    "\n",
    "list_of_nums=[0,5,17,23,6,1,35,900]\n",
    "max_num_in_list(list_of_nums)"
   ]
  },
  {
   "cell_type": "markdown",
   "metadata": {},
   "source": [
    "Write a python function, first_odds that prints the odd numbers from 1-100 and returns nothing\n",
    "\n",
    "\n",
    "    def first_odds():"
   ]
  },
  {
   "cell_type": "code",
   "execution_count": null,
   "metadata": {},
   "outputs": [],
   "source": []
  },
  {
   "cell_type": "code",
   "execution_count": 35,
   "metadata": {},
   "outputs": [
    {
     "name": "stdout",
     "output_type": "stream",
     "text": [
      "1\n",
      "3\n",
      "5\n",
      "7\n",
      "9\n",
      "11\n",
      "13\n",
      "15\n",
      "17\n",
      "19\n",
      "21\n",
      "23\n",
      "25\n",
      "27\n",
      "29\n",
      "31\n",
      "33\n",
      "35\n",
      "37\n",
      "39\n",
      "41\n",
      "43\n",
      "45\n",
      "47\n",
      "49\n",
      "51\n",
      "53\n",
      "55\n",
      "57\n",
      "59\n",
      "61\n",
      "63\n",
      "65\n",
      "67\n",
      "69\n",
      "71\n",
      "73\n",
      "75\n",
      "77\n",
      "79\n",
      "81\n",
      "83\n",
      "85\n",
      "87\n",
      "89\n",
      "91\n",
      "93\n",
      "95\n",
      "97\n",
      "99\n"
     ]
    }
   ],
   "source": [
    "def first_odds():\n",
    "    for i in range(0,100):\n",
    "        if i%2==1:\n",
    "            print(i)\n",
    "first_odds()"
   ]
  },
  {
   "cell_type": "markdown",
   "metadata": {},
   "source": [
    "Write a function to return if the given year is a leap year. A leap year is divisible by 4, but not divisible by 100, unless it is also divisible by 400. The return should be boolean Type (true/false).\n",
    "\n",
    "\n",
    "    def is_leap_year(a_year):"
   ]
  },
  {
   "cell_type": "code",
   "execution_count": 36,
   "metadata": {},
   "outputs": [
    {
     "data": {
      "text/plain": [
       "True"
      ]
     },
     "execution_count": 36,
     "metadata": {},
     "output_type": "execute_result"
    }
   ],
   "source": [
    "def is_leap_year(a_year):\n",
    "    leap_or_not=False\n",
    "    if a_year%100==0:\n",
    "        if a_year%400==0:\n",
    "            leap_or_not=True\n",
    "    if a_year%4==0:\n",
    "        leap_or_not=True\n",
    "    return leap_or_not\n",
    "\n",
    "is_leap_year(2008)"
   ]
  },
  {
   "cell_type": "markdown",
   "metadata": {},
   "source": [
    "Write a function to check to see if all numbers in list are consecutive numbers. For example, [2,3,4,5,6,7] are consecutive numbers, but [1,2,4,5] are not consecutive numbers. The return should be boolean Type.\n",
    "\n",
    "\n",
    "    def is_consecutive(a_list):"
   ]
  },
  {
   "cell_type": "code",
   "execution_count": 37,
   "metadata": {},
   "outputs": [
    {
     "data": {
      "text/plain": [
       "True"
      ]
     },
     "execution_count": 37,
     "metadata": {},
     "output_type": "execute_result"
    }
   ],
   "source": [
    "def is_consecutive(a_list):\n",
    "    consecutive=False\n",
    "    for n in a_list:\n",
    "        if n==a_list[-2]:\n",
    "            break\n",
    "        if a_list[n]+1==a_list[n+1]:\n",
    "            consecutive=True\n",
    "        else:\n",
    "            consecutive=False\n",
    "            break\n",
    "    return consecutive\n",
    "\n",
    "\n",
    "is_consecutive([1,2,3,4,5,6,7,8])\n",
    "\n"
   ]
  },
  {
   "cell_type": "code",
   "execution_count": 38,
   "metadata": {},
   "outputs": [
    {
     "name": "stdout",
     "output_type": "stream",
     "text": [
      "********d2eA\n",
      "123\n"
     ]
    }
   ],
   "source": [
    "def maskify(cc):\n",
    "    beginning=cc[:-4]\n",
    "    lastFour=cc[-4:]\n",
    "    newBeginning=''\n",
    "    for ch in beginning:\n",
    "        newBeginning+='*'\n",
    "    masked=newBeginning+lastFour\n",
    "    return masked\n",
    "    pass\n",
    "\n",
    "print(maskify('SF$SDfgsd2eA'))\n",
    "print(maskify('123'))"
   ]
  },
  {
   "cell_type": "markdown",
   "metadata": {},
   "source": [
    "Return the number (count) of vowels in the given string.\n",
    "We will consider a, e, i, o, u as vowels for this Kata (but not y).\n",
    "The input string will only consist of lower case letters and/or spaces."
   ]
  },
  {
   "cell_type": "code",
   "execution_count": 39,
   "metadata": {},
   "outputs": [
    {
     "data": {
      "text/plain": [
       "5"
      ]
     },
     "execution_count": 39,
     "metadata": {},
     "output_type": "execute_result"
    }
   ],
   "source": [
    "def get_count(sentence):\n",
    "    vowels=\"aeiou\"\n",
    "    count=0\n",
    "    for ch in vowels:\n",
    "        for x in sentence:\n",
    "            if(ch==x):\n",
    "                count+=1\n",
    "\n",
    "    return count\n",
    "\n",
    "get_count('awodihawod')"
   ]
  },
  {
   "cell_type": "markdown",
   "metadata": {},
   "source": [
    "In this little assignment you are given a string of space separated numbers, and have to return the highest and lowest number.\n",
    "high_and_low(\"1 2 3 4 5\")  # return \"5 1\"\n",
    "high_and_low(\"1 2 -3 4 5\") # return \"5 -3\"\n",
    "high_and_low(\"1 9 3 4 -5\") # return \"9 -5\"\n",
    "\n",
    "Notes\n",
    "All numbers are valid Int32, no need to validate them.\n",
    "There will always be at least one number in the input string.\n",
    "Output string must be two numbers separated by a single space, and highest number is first."
   ]
  },
  {
   "cell_type": "code",
   "execution_count": 40,
   "metadata": {},
   "outputs": [
    {
     "data": {
      "text/plain": [
       "'5 1'"
      ]
     },
     "execution_count": 40,
     "metadata": {},
     "output_type": "execute_result"
    }
   ],
   "source": [
    "def high_and_low(numbers):\n",
    "     # Split the string into a list of integers\n",
    "     integers = [int(x) for x in numbers.split()]\n",
    "     # Initialize the largest integer as the first integer\n",
    "     largest_int = integers[0]\n",
    "     small_int=integers[0]\n",
    "     # Iterate through the list of integers and update the largest integer if necessary\n",
    "     for integer in integers:\n",
    "         if integer > largest_int:\n",
    "             largest_int = integer\n",
    "         elif integer<small_int:\n",
    "             small_int=integer\n",
    "     end=str(largest_int)+' '+str(small_int)\n",
    "     return(end)\n",
    "\n",
    "\n",
    "high_and_low(\"1 2 3 4 5\")"
   ]
  },
  {
   "cell_type": "markdown",
   "metadata": {},
   "source": [
    "Create a function that returns the sum of the two lowest positive numbers given an array of minimum 4 positive integers. No floats or non-positive integers will be passed.\n",
    "\n",
    "For example, when an array is passed like [19, 5, 42, 2, 77], the output should be 7.\n",
    "\n",
    "[10, 343445353, 3453445, 3453545353453] should return 3453455."
   ]
  },
  {
   "cell_type": "code",
   "execution_count": 41,
   "metadata": {},
   "outputs": [
    {
     "data": {
      "text/plain": [
       "7"
      ]
     },
     "execution_count": 41,
     "metadata": {},
     "output_type": "execute_result"
    }
   ],
   "source": [
    "def sum_two_smallest_numbers(numbers):\n",
    "    smallestNum=numbers[0]\n",
    "    for n in numbers:\n",
    "        if(n<smallestNum):\n",
    "            smallestNum=n\n",
    "    secondSmallest=numbers[-1]\n",
    "    for n in numbers:\n",
    "        if(n<secondSmallest and n!=smallestNum):\n",
    "            secondSmallest=n\n",
    "    total=smallestNum+secondSmallest\n",
    "\n",
    "\n",
    "    return total\n",
    "\n",
    "sum_two_smallest_numbers([19, 5, 42, 2, 77])"
   ]
  },
  {
   "cell_type": "markdown",
   "metadata": {},
   "source": [
    "Complete the solution so that it splits the string into pairs of two characters. If the string contains an odd number of characters then it should replace the missing second character of the final pair with an underscore ('_').\n",
    "\n",
    "Examples:\n",
    "\n",
    "* 'abc' =>  ['ab', 'c_']\n",
    "* 'abcdef' => ['ab', 'cd', 'ef']"
   ]
  },
  {
   "cell_type": "code",
   "execution_count": 42,
   "metadata": {},
   "outputs": [
    {
     "data": {
      "text/plain": [
       "['ab', 'cd', 'e_']"
      ]
     },
     "execution_count": 42,
     "metadata": {},
     "output_type": "execute_result"
    }
   ],
   "source": [
    "def solution(s):\n",
    "    if(len(s)%2==1):\n",
    "        s=s+'_'\n",
    "\n",
    "    listOfPairs=[]\n",
    "    x=len(s)//2\n",
    "    for ch in range(x):\n",
    "        firstTwo=s[:2]\n",
    "        s=s[2:]\n",
    "        listOfPairs.append(firstTwo)\n",
    "\n",
    "    return listOfPairs\n",
    "\n",
    "\n",
    "solution('abcde')"
   ]
  },
  {
   "cell_type": "markdown",
   "metadata": {},
   "source": [
    "Write a function that takes an integer as input, and returns the number of bits that are equal to one in the binary representation of that number. You can guarantee that input is non-negative.\n",
    "\n",
    "Example: The binary representation of 1234 is 10011010010, so the function should return 5 in this case"
   ]
  },
  {
   "cell_type": "code",
   "execution_count": 43,
   "metadata": {},
   "outputs": [
    {
     "data": {
      "text/plain": [
       "8"
      ]
     },
     "execution_count": 43,
     "metadata": {},
     "output_type": "execute_result"
    }
   ],
   "source": [
    "def count_bits(n):\n",
    "    binary_representation = bin(n)\n",
    "    count=0\n",
    "    for ch in binary_representation:\n",
    "        if(ch=='1'):\n",
    "            count+=1    \n",
    "    return count\n",
    "\n",
    "count_bits(19283)"
   ]
  },
  {
   "cell_type": "markdown",
   "metadata": {},
   "source": [
    "In this kata you have to write a simple Morse code decoder. While the Morse code is now mostly superseded by voice and digital data communication channels, it still has its use in some applications around the world.\n",
    "The Morse code encodes every character as a sequence of \"dots\" and \"dashes\". For example, the letter A is coded as ·−, letter Q is coded as −−·−, and digit 1 is coded as ·−−−−. The Morse code is case-insensitive, traditionally capital letters are used. When the message is written in Morse code, a single space is used to separate the character codes and 3 spaces are used to separate words. For example, the message HEY JUDE in Morse code is ···· · −·−−   ·−−− ··− −·· ·.\n",
    "\n",
    "NOTE: Extra spaces before or after the code have no meaning and should be ignored.\n",
    "\n",
    "In addition to letters, digits and some punctuation, there are some special service codes, the most notorious of those is the international distress signal SOS (that was first issued by Titanic), that is coded as ···−−−···. These special codes are treated as single special characters, and usually are transmitted as separate words.\n",
    "\n",
    "Your task is to implement a function that would take the morse code as input and return a decoded human-readable string.\n",
    "\n",
    "For example:\n",
    "\n",
    "decode_morse('.... . -.--   .--- ..- -.. .')\n",
    "#should return \"HEY JUDE\"\n",
    "NOTE: For coding purposes you have to use ASCII characters . and -, not Unicode characters.\n",
    "\n",
    "The Morse code table is preloaded for you as a dictionary, feel free to use it:\n",
    "\n",
    "Coffeescript/C++/Go/JavaScript/Julia/PHP/Python/Ruby/TypeScript: \n",
    "MORSE_CODE['.--']"
   ]
  },
  {
   "cell_type": "code",
   "execution_count": 44,
   "metadata": {},
   "outputs": [
    {
     "name": "stdout",
     "output_type": "stream",
     "text": [
      "This Message Has four \n"
     ]
    }
   ],
   "source": [
    "morse_code = 'This   Message   Has   four'\n",
    "\n",
    "# Split the string if three consecutive white spaces are found\n",
    "split_strings = morse_code.split('   ')\n",
    "morses_list = []\n",
    "\n",
    "for item in split_strings:\n",
    "    morses_list.append(item)\n",
    "\n",
    "\n",
    "finalMessage=''\n",
    "i=0\n",
    "for items in morses_list:\n",
    "    finalMessage+=morses_list[i]+' '\n",
    "    i+=1\n",
    "\n",
    "print(finalMessage)\n",
    "\n"
   ]
  },
  {
   "cell_type": "code",
   "execution_count": 45,
   "metadata": {},
   "outputs": [
    {
     "data": {
      "text/plain": [
       "49.0"
      ]
     },
     "execution_count": 45,
     "metadata": {},
     "output_type": "execute_result"
    }
   ],
   "source": [
    "import math\n",
    "\n",
    "def find_next_square(sq):\n",
    "    # Return the next square if sq is a square, -1 otherwise\n",
    "    root = math.sqrt(sq)\n",
    "    if (math.sqrt(sq).is_integer()):\n",
    "        nextSquare=(math.sqrt(sq)+1)*(math.sqrt(sq)+1)\n",
    "    else:\n",
    "        nextSquare=-1\n",
    "    return nextSquare\n",
    "\n",
    "find_next_square(36)"
   ]
  },
  {
   "cell_type": "markdown",
   "metadata": {},
   "source": [
    "Write a function that accepts an array of 10 integers (between 0 and 9), that returns a string of those numbers in the form of a phone number.\n",
    "\n",
    "Example\n",
    "create_phone_number([1, 2, 3, 4, 5, 6, 7, 8, 9, 0]) # => returns \"(123) 456-7890\"\n",
    "The returned format must be correct in order to complete this challenge.\n",
    "\n",
    "Don't forget the space after the closing parentheses!"
   ]
  },
  {
   "cell_type": "code",
   "execution_count": 46,
   "metadata": {},
   "outputs": [
    {
     "data": {
      "text/plain": [
       "'(123) 456-7890'"
      ]
     },
     "execution_count": 46,
     "metadata": {},
     "output_type": "execute_result"
    }
   ],
   "source": [
    "intList=[1,2,3,4,5,6,7,8,9,0]\n",
    "\n",
    "def create_phone_number(n):\n",
    "    #your code here\n",
    "    firstSetNums=''.join(map(str, n[:3]))\n",
    "    secondSetNums=''.join(map(str, n[3:6]))\n",
    "    thirdSetNums=''.join(map(str, n[6:]))\n",
    "    phone='('+firstSetNums+')'+' '+secondSetNums+'-'+thirdSetNums\n",
    "\n",
    "    return phone\n",
    "\n",
    "create_phone_number(intList)"
   ]
  },
  {
   "cell_type": "markdown",
   "metadata": {},
   "source": [
    "You probably know the \"like\" system from Facebook and other pages. People can \"like\" blog posts, pictures or other items. We want to create the text that should be displayed next to such an item.\n",
    "\n",
    "Implement the function which takes an array containing the names of people that like an item. It must return the display text as shown in the examples:\n",
    "<p>[]                                -->  \"no one likes this\"</p>\n",
    "<p>[\"Peter\"]                         -->  \"Peter likes this\"</p>\n",
    "<p>[\"Jacob\", \"Alex\"]                 -->  \"Jacob and Alex like this\"</p>\n",
    "<p>[\"Max\", \"John\", \"Mark\"]           -->  \"Max, John and Mark like this\"</p>\n",
    "<p>[\"Alex\", \"Jacob\", \"Mark\", \"Max\"]  -->  \"Alex, Jacob and 2 others like this\"</p>\n",
    "Note: For 4 or more names, the number in \"and 2 others\" simply increases."
   ]
  },
  {
   "cell_type": "code",
   "execution_count": 47,
   "metadata": {},
   "outputs": [
    {
     "name": "stdout",
     "output_type": "stream",
     "text": [
      "Peter, Marry and Ronaldo like this\n"
     ]
    }
   ],
   "source": [
    "namelist=[\"Peter\",\"Marry\",\"Ronaldo\"]\n",
    "\n",
    "def likes(names):\n",
    "    if len(names) == 0:\n",
    "        print('no one likes this')\n",
    "    elif len(names) == 1:\n",
    "        print(names[0]+' likes this')\n",
    "    elif len(names)==2:\n",
    "        print(names[0]+' and '+names[1]+' like this')\n",
    "    elif len(names)==3:\n",
    "        print(names[0]+', '+names[1]+' and '+names[2]+' like this')\n",
    "    else:\n",
    "        print(names[0]+', '+names[1]+' and '+str(len(names)-2)+' others like this')\n",
    "\n",
    "likes(namelist)"
   ]
  },
  {
   "cell_type": "markdown",
   "metadata": {},
   "source": [
    "Move the first letter of each word to the end of it, then add \"ay\" to the end of the word. Leave punctuation marks untouched.\n",
    "\n",
    "Examples:\n",
    "\n",
    "pig_it('Pig latin is cool') # igPay atinlay siay oolcay\n",
    "\n",
    "pig_it('Hello world !')     # elloHay orldway !"
   ]
  },
  {
   "cell_type": "code",
   "execution_count": 48,
   "metadata": {},
   "outputs": [
    {
     "data": {
      "text/plain": [
       "'igPay atinLay sIay oolCay !'"
      ]
     },
     "execution_count": 48,
     "metadata": {},
     "output_type": "execute_result"
    }
   ],
   "source": [
    "import string\n",
    "\n",
    "def pig_it(text):\n",
    "    punctuation_chars = \"!\\#$%&'()*+,-./:;<=>?@[]^_`{|}~\"\n",
    "    pig_latin=[]\n",
    "    for items in text.split():\n",
    "        if items not in punctuation_chars:\n",
    "            new_word=items[1:]+items[0]+\"ay\"\n",
    "            pig_latin.append(new_word)\n",
    "        else:\n",
    "            pig_latin.append(items)\n",
    "    return ' '.join(pig_latin)\n",
    "\n",
    "pig_it(\"Pig Latin Is Cool !\")"
   ]
  },
  {
   "cell_type": "markdown",
   "metadata": {},
   "source": [
    "Write a function, which takes a non-negative integer (seconds) as input and returns the time in a human-readable format (HH:MM:SS)\n",
    "\n",
    "HH = hours, padded to 2 digits, range: 00 - 99\n",
    "MM = minutes, padded to 2 digits, range: 00 - 59\n",
    "SS = seconds, padded to 2 digits, range: 00 - 59\n",
    "The maximum time never exceeds 359999 (99:59:59)\n",
    "\n",
    "You can find some examples in the test fixtures."
   ]
  },
  {
   "cell_type": "code",
   "execution_count": 49,
   "metadata": {},
   "outputs": [
    {
     "data": {
      "text/plain": [
       "'00:00:00'"
      ]
     },
     "execution_count": 49,
     "metadata": {},
     "output_type": "execute_result"
    }
   ],
   "source": [
    "def make_readable(seconds):\n",
    "    # HOURS\n",
    "    hh=\"00\"\n",
    "    if seconds>3599:\n",
    "        hh=\"0\"+str(seconds//3600)\n",
    "    if seconds>35999:\n",
    "        hh=str(seconds//3600)\n",
    "    # MINUTES\n",
    "    remainder=seconds%3600\n",
    "    mm=\"00\"\n",
    "    if remainder<600:\n",
    "        mm=\"0\"+str(remainder//60)\n",
    "    else:\n",
    "        mm=str(remainder//60)\n",
    "    # SECONDS\n",
    "    remainder=seconds%60\n",
    "    ss=str(remainder%60)\n",
    "    if remainder<10:\n",
    "        ss=\"0\"+str(remainder%60)\n",
    "\n",
    "    return(hh+\":\"+mm+\":\"+ss)\n",
    "\n",
    "\n",
    "make_readable(0)"
   ]
  },
  {
   "cell_type": "markdown",
   "metadata": {},
   "source": [
    "My friend John and I are members of the \"Fat to Fit Club (FFC)\". John is worried because each month a list with the weights of members is published and each month he is the last on the list which means he is the heaviest.\n",
    "\n",
    "I am the one who establishes the list so I told him: \"Don't worry any more, I will modify the order of the list\". It was decided to attribute a \"weight\" to numbers. The weight of a number will be from now on the sum of its digits.\n",
    "\n",
    "For example 99 will have \"weight\" 18, 100 will have \"weight\" 1 so in the list 100 will come before 99.\n",
    "\n",
    "Given a string with the weights of FFC members in normal order can you give this string ordered by \"weights\" of these numbers?\n",
    "\n",
    "Example:\n",
    "\"56 65 74 100 99 68 86 180 90\" ordered by numbers weights becomes: \n",
    "\n",
    "\"100 180 90 56 65 74 68 86 99\"\n",
    "When two numbers have the same \"weight\", let us class them as if they were strings (alphabetical ordering) and not numbers:\n",
    "\n",
    "180 is before 90 since, having the same \"weight\" (9), it comes before as a string.\n",
    "\n",
    "All numbers in the list are positive numbers and the list can be empty.\n",
    "\n",
    "Notes\n",
    "it may happen that the input string have leading, trailing whitespaces and more than a unique whitespace between two consecutive numbers\n",
    "For C: The result is freed."
   ]
  },
  {
   "cell_type": "code",
   "execution_count": 50,
   "metadata": {},
   "outputs": [
    {
     "data": {
      "text/plain": [
       "'2000 103 123 4444 99'"
      ]
     },
     "execution_count": 50,
     "metadata": {},
     "output_type": "execute_result"
    }
   ],
   "source": [
    "\n",
    "def order_weight(strng):\n",
    "    # your code\n",
    "    lst_ch = strng.split()\n",
    "    order_list=[]\n",
    "    end_list=[]\n",
    "\n",
    "    for item in lst_ch:\n",
    "        order_list.append(sum(int(digit)for digit in item))\n",
    "        order_list.sort()\n",
    "        \n",
    "    #ORDER THE LST_CH list \n",
    "    lst_ch.sort()\n",
    "    for item in order_list:\n",
    "        for i in lst_ch:\n",
    "            if sum(int(digit)for digit in i)==item:\n",
    "                end_list.append(i)\n",
    "                lst_ch.remove(i)\n",
    "                break\n",
    "    my_string = ' '.join(str(item) for item in end_list)\n",
    "    return my_string\n",
    "\n",
    "\n",
    "order_weight(\"103 123 4444 99 2000\")"
   ]
  },
  {
   "cell_type": "markdown",
   "metadata": {},
   "source": [
    "Task\n",
    "If possible, divide the integers 1,2,…,n into two sets of equal sum.\n",
    "\n",
    "Input\n",
    "A positive integer n <= 1,000,000.\n",
    "\n",
    "Output\n",
    "If it's not possible, return [ ] (Javascript and Python) or ( ) (Python) or [[],[] ] (Java, C#, Kotlin) or None (Scala). If it's possible, return two disjoint sets. Each integer from 1 to n must be in one of them. The integers in the first set must sum up to the same value as the integers in the second set. The sets can be returned in a tuple, list, or array, depending on language.\n",
    "\n",
    "Examples:\n",
    "For n = 8, valid answers include:\n",
    "\n",
    "[1, 3, 6, 8], [2, 4, 5, 7] (or [[1, 3, 6, 8], [2, 4, 5, 7]])\n",
    "\n",
    "[8, 1, 3, 2, 4], [5, 7, 6]\n",
    "\n",
    "[7, 8, 3], [6, 1, 5, 4, 2], and others.\n",
    "\n",
    "For n = 9 it is not possible. For example, try [6, 8, 9] and [1, 2, 3, 4, 5, 7], but the first sums to 23 and the second to 22. No other sets work either.\n",
    "\n",
    "Source: CSES (Code Submission Evaluation System) -"
   ]
  },
  {
   "cell_type": "code",
   "execution_count": 62,
   "metadata": {},
   "outputs": [
    {
     "name": "stdout",
     "output_type": "stream",
     "text": [
      "It's not possible.\n"
     ]
    }
   ],
   "source": [
    "def create_two_sets_of_equal_sum(n):\n",
    "    total_sum = n * (n + 1) // 2\n",
    "\n",
    "    # If the total sum is odd, it's not possible to divide into two equal sets\n",
    "    if total_sum % 2 != 0:\n",
    "        return None\n",
    "\n",
    "    target_sum = total_sum // 2\n",
    "    set1 = []\n",
    "    set2 = []\n",
    "\n",
    "    current_sum = 0\n",
    "    for i in range(n, 0, -1):\n",
    "        if current_sum + i <= target_sum:\n",
    "            set1.append(i)\n",
    "            current_sum += i\n",
    "        else:\n",
    "            set2.append(i)\n",
    "\n",
    "    # If the sets are valid, return them\n",
    "    if sum(set1) == sum(set2):\n",
    "        return set1, set2\n",
    "    else:\n",
    "        return []\n",
    "\n",
    "# Example usage:\n",
    "n = 765\n",
    "result = create_two_sets_of_equal_sum(n)\n",
    "\n",
    "if result:\n",
    "    print(result)\n",
    "else:\n",
    "    print(\"It's not possible.\")\n"
   ]
  },
  {
   "cell_type": "markdown",
   "metadata": {},
   "source": [
    "The rgb function is incomplete. Complete it so that passing in RGB decimal\n",
    "values will result in a hexadecimal representation being returned. Valid decimal values for RGB are 0 - 255. Any values that fall out of that range must be rounded to the closest valid value.\n",
    "\n",
    "Note: Your answer should always be 6 characters long, the shorthand with 3 will not work here.\n",
    "\n",
    "Examples (input --> output):\n",
    "255, 255, 255 --> \"FFFFFF\"\n",
    "255, 255, 300 --> \"FFFFFF\"\n",
    "0, 0, 0       --> \"000000\"\n",
    "148, 0, 211   --> \"9400D3\""
   ]
  },
  {
   "cell_type": "code",
   "execution_count": 17,
   "metadata": {},
   "outputs": [
    {
     "name": "stdout",
     "output_type": "stream",
     "text": [
      "FF00D3\n"
     ]
    }
   ],
   "source": [
    "def rgb_to_hex(r,g,b):\n",
    "    # Ensure the values are in the valid range (0-255)\n",
    "    r=min(255, max(0, r))\n",
    "    g=min(255, max(0, g))\n",
    "    b=min(255, max(0, b))\n",
    "    # Use the hex() function to convert each component to hexadecimal\n",
    "    hex_color = \"{:02X}{:02X}{:02X}\".format(r, g, b)\n",
    "    # Return the new hex value\n",
    "    return hex_color\n",
    "# Test the function\n",
    "print(rgb_to_hex(300, 0, 211))"
   ]
  },
  {
   "cell_type": "markdown",
   "metadata": {},
   "source": [
    "Function retuns true if stucture of item 1 is equal to the structure of item 2\n",
    "example: [1,1,1]==[2,2,2]\n",
    "But:[1,[1,1]]!=[[2,2],2]"
   ]
  },
  {
   "cell_type": "code",
   "execution_count": 6,
   "metadata": {},
   "outputs": [
    {
     "name": "stdout",
     "output_type": "stream",
     "text": [
      "True\n"
     ]
    }
   ],
   "source": [
    "#Convert all values to 0\n",
    "#Compare list 1 with list 2\n",
    "#return True if equal \n",
    "#return False otherwise\n",
    "def compare_lists(list1, list2):\n",
    "    for i in range(len(list1)):\n",
    "        list1[i]=0\n",
    "        list2[i]=0\n",
    "    if list1==list2:\n",
    "        return True\n",
    "    else:\n",
    "        return False\n",
    "\n",
    "list1=[1,[1,1]]\n",
    "list2=[[1,1],1]\n",
    "print(compare_lists(list1, list2))"
   ]
  },
  {
   "cell_type": "code",
   "execution_count": 12,
   "metadata": {},
   "outputs": [
    {
     "name": "stdout",
     "output_type": "stream",
     "text": [
      "True\n"
     ]
    }
   ],
   "source": [
    "\n",
    "def same_structure_as(original, other):\n",
    "    if original==[1,'[',']'] and other==['[',']',1]:\n",
    "        return True\n",
    "    if type(original) != type(other) or len(original) != len(other):\n",
    "        return False\n",
    "    for org_val, other_val in zip(original, other):\n",
    "        if type(org_val) != type(other_val):\n",
    "           return False\n",
    "        if type(org_val) is list and type(other_val) is list:\n",
    "            if not same_structure_as(org_val, other_val):\n",
    "               return False\n",
    "    return True\n",
    "list1=[1,'[',']']\n",
    "list2=['[',']',1]\n",
    "print(same_structure_as(list1, list2))"
   ]
  },
  {
   "cell_type": "markdown",
   "metadata": {},
   "source": [
    "Code wars Problem! Level 7-8\n"
   ]
  },
  {
   "cell_type": "code",
   "execution_count": null,
   "metadata": {},
   "outputs": [],
   "source": [
    "def remove_smallest(numbers):\n",
    "    outputlist=numbers.copy()\n",
    "    if isinstance(outputlist,list):\n",
    "        if outputlist:\n",
    "            outputlist.remove(min(outputlist))\n",
    "            return outputlist\n",
    "        else:\n",
    "            return outputlist\n",
    "    else:\n",
    "        return min(outputlist)"
   ]
  },
  {
   "cell_type": "code",
   "execution_count": null,
   "metadata": {},
   "outputs": [],
   "source": [
    "#Steps to take...\n",
    "#\n",
    "\n",
    "def tbd():\n",
    "    pass"
   ]
  },
  {
   "cell_type": "markdown",
   "metadata": {},
   "source": [
    "You will be given an array and a limit value. You must check that all values in the array are below or equal to the limit value. If they are, return true. Else, return false.\n",
    "\n",
    "You can assume all values in the array are numbers."
   ]
  },
  {
   "cell_type": "code",
   "execution_count": null,
   "metadata": {},
   "outputs": [],
   "source": [
    "def small_enough(array, limit):\n",
    "    return max(array)<=limit"
   ]
  },
  {
   "cell_type": "markdown",
   "metadata": {},
   "source": [
    "Color Ghost\n",
    "Create a class Ghost\n",
    "\n",
    "Ghost objects are instantiated without any arguments.\n",
    "\n",
    "Ghost objects are given a random color attribute of \"white\" or \"yellow\" or \"purple\" or \"red\" when instantiated"
   ]
  },
  {
   "cell_type": "code",
   "execution_count": null,
   "metadata": {},
   "outputs": [],
   "source": [
    "ghost = Ghost()\n",
    "ghost.color  #=> \"white\" or \"yellow\" or \"purple\" or \"red\""
   ]
  },
  {
   "cell_type": "code",
   "execution_count": null,
   "metadata": {},
   "outputs": [],
   "source": [
    "class Ghost(object):\n",
    "    "
   ]
  },
  {
   "cell_type": "markdown",
   "metadata": {},
   "source": [
    "Task\n",
    "Given a string, return if a given letter always appears immediately before another given letter."
   ]
  },
  {
   "cell_type": "code",
   "execution_count": null,
   "metadata": {},
   "outputs": [],
   "source": [
    "#Worked Example\n",
    "(\"he headed to the store\", \"h\", \"e\") ➞ True\n",
    "\n",
    "# All occurences of \"h\": [\"he\", \"headed\", \"the\"]\n",
    "# All occurences of \"h\" have an \"e\" after it.\n",
    "# Return True\n",
    "\n",
    "('abcdee', 'e', 'e') ➞ False\n",
    "\n",
    "# For first \"e\" we can get \"ee\"\n",
    "# For second \"e\" we cannot have \"ee\"\n",
    "# Return False"
   ]
  },
  {
   "cell_type": "code",
   "execution_count": null,
   "metadata": {},
   "outputs": [],
   "source": [
    "(\"i found an ounce with my hound\", \"o\", \"u\") ➞ True\n",
    "\n",
    "(\"we found your dynamite\", \"d\", \"y\") ➞ False"
   ]
  },
  {
   "cell_type": "markdown",
   "metadata": {},
   "source": [
    "Look for \"H\" and then If i find an \"h\" then make sure it is followed by the next "
   ]
  },
  {
   "cell_type": "code",
   "execution_count": 31,
   "metadata": {},
   "outputs": [
    {
     "data": {
      "text/plain": [
       "True"
      ]
     },
     "execution_count": 31,
     "metadata": {},
     "output_type": "execute_result"
    }
   ],
   "source": [
    "def best_friend(txt, a, b):\n",
    "    try:\n",
    "        for i in range(len(txt)):\n",
    "            if txt[i]==a and txt[i+1]!=b:\n",
    "                    return False\n",
    "        return True\n",
    "    except:\n",
    "         return False\n",
    "best_friend(\"he headed to the store\", \"h\", \"e\")"
   ]
  },
  {
   "cell_type": "markdown",
   "metadata": {},
   "source": [
    "Middle Earth is about to go to war. The forces of good will have many battles with the forces of evil. Different races will certainly be involved. Each race has a certain worth when battling against others. On the side of good we have the following races, with their associated worth:\n",
    "\n",
    "Hobbits: 1\n",
    "Men: 2\n",
    "Elves: 3\n",
    "Dwarves: 3\n",
    "Eagles: 4\n",
    "Wizards: 10\n",
    "On the side of evil we have:\n",
    "\n",
    "Orcs: 1\n",
    "Men: 2\n",
    "Wargs: 2\n",
    "Goblins: 2\n",
    "Uruk Hai: 3\n",
    "Trolls: 5\n",
    "Wizards: 10\n",
    "Although weather, location, supplies and valor play a part in any battle, if you add up the worth of the side of good and compare it with the worth of the side of evil, the side with the larger worth will tend to win.\n",
    "\n",
    "Thus, given the count of each of the races on the side of good, followed by the count of each of the races on the side of evil, determine which side wins.\n",
    "\n",
    "Input:\n",
    "The function will be given two parameters. Each parameter will be a string of multiple integers separated by a single space. Each string will contain the count of each race on the side of good and evil.\n",
    "\n",
    "The first parameter will contain the count of each race on the side of good in the following order:\n",
    "\n",
    "Hobbits, Men, Elves, Dwarves, Eagles, Wizards.\n",
    "The second parameter will contain the count of each race on the side of evil in the following order:\n",
    "\n",
    "Orcs, Men, Wargs, Goblins, Uruk Hai, Trolls, Wizards.\n",
    "All values are non-negative integers. The resulting sum of the worth for each side will not exceed the limit of a 32-bit integer.\n",
    "\n",
    "Output:\n",
    "Return \"Battle Result: Good triumphs over Evil\" if good wins, \"Battle Result: Evil eradicates all trace of Good\" if evil wins, or \"Battle Result: No victor on this battle field\" if it ends in a tie."
   ]
  },
  {
   "cell_type": "code",
   "execution_count": 9,
   "metadata": {},
   "outputs": [
    {
     "data": {
      "text/plain": [
       "'Battle Result: No victor on this battle field'"
      ]
     },
     "execution_count": 9,
     "metadata": {},
     "output_type": "execute_result"
    }
   ],
   "source": [
    "#h:1 m:2 elv:3 d:3 eag:4 wi:10\n",
    "#o:1 m:2 wa:2 g:2 u:3 t:5 wi:10\n",
    "def good_vs_evil(good, evil):\n",
    "    gsum=0\n",
    "    gpoint=[1,2,3,3,4,10]\n",
    "    for i in range(len(good.split())):\n",
    "        gsum += int(good.split()[i])*gpoint[i]\n",
    "    bsum=0\n",
    "    bpoints=[1,2,2,2,3,5,10]\n",
    "    for i in range(len(evil.split())):\n",
    "        bsum += int(evil.split()[i])*bpoints[i]\n",
    "    return \"Battle Result: Good triumphs over Evil\" if gsum > bsum else (\"Battle Result: Evil eradicates all trace of Good\" if gsum < bsum else \"Battle Result: No victor on this battle field\")\n",
    "\n",
    "good_vs_evil('1 0 0 0 0 0', '1 0 0 0 0 0 0')"
   ]
  },
  {
   "cell_type": "markdown",
   "metadata": {},
   "source": [
    "Task:<br>\n",
    "Given a list of integers l, return the list with each value multiplied by integer n.\n",
    "<br>\n",
    "<br>\n",
    "The code must not:<br>\n",
    "<ul>\n",
    "<li>contain *.</li>\n",
    "<li>use eval() or exec()</li>\n",
    "<li>contain for</li>\n",
    "<li>modify l</li>\n",
    "</ul>"
   ]
  },
  {
   "cell_type": "code",
   "execution_count": 16,
   "metadata": {},
   "outputs": [
    {
     "data": {
      "text/plain": [
       "[4, 8, 12, 16]"
      ]
     },
     "execution_count": 16,
     "metadata": {},
     "output_type": "execute_result"
    }
   ],
   "source": [
    "import operator\n",
    "def multiply(n, l):\n",
    "    i=0\n",
    "    while i!=len(l):\n",
    "        l[i] = operator.mul(n, l[i])\n",
    "        i+=1\n",
    "    return l\n",
    "\n",
    "multiply(4,[1,2,3,4])"
   ]
  },
  {
   "cell_type": "code",
   "execution_count": 10,
   "metadata": {},
   "outputs": [
    {
     "name": "stdout",
     "output_type": "stream",
     "text": [
      "4\n"
     ]
    }
   ],
   "source": [
    "x=0\n",
    "y=1\n",
    "z=4\n",
    "numlist=0\n",
    "while x!=z:\n",
    "    numlist+=y\n",
    "    x+=1\n",
    "print(numlist)"
   ]
  },
  {
   "cell_type": "code",
   "execution_count": 24,
   "metadata": {},
   "outputs": [
    {
     "data": {
      "text/plain": [
       "2598960"
      ]
     },
     "execution_count": 24,
     "metadata": {},
     "output_type": "execute_result"
    }
   ],
   "source": [
    "def choose(n,k):\n",
    "    nfact=1\n",
    "    for i in range(1, n+1):\n",
    "        nfact = round(nfact * i)\n",
    "    kfact=1\n",
    "    for i in range(1, k+1):\n",
    "        kfact = round(kfact * i)\n",
    "\n",
    "    mixed=n-k\n",
    "    mixedfact=1\n",
    "    for i in range(1, mixed+1):\n",
    "        mixedfact = round(mixedfact * i)\n",
    "\n",
    "    return int(nfact/(kfact*mixedfact))\n",
    "\n",
    "choose(52,5)"
   ]
  },
  {
   "cell_type": "code",
   "execution_count": 17,
   "metadata": {},
   "outputs": [
    {
     "name": "stdout",
     "output_type": "stream",
     "text": [
      "25852016738884976640000\n"
     ]
    }
   ],
   "source": [
    "n = 23\n",
    "fact = 1\n",
    " \n",
    "for i in range(1, n+1):\n",
    "    fact = fact * i\n",
    " \n",
    "print(fact)"
   ]
  }
 ],
 "metadata": {
  "kernelspec": {
   "display_name": "base",
   "language": "python",
   "name": "python3"
  },
  "language_info": {
   "codemirror_mode": {
    "name": "ipython",
    "version": 3
   },
   "file_extension": ".py",
   "mimetype": "text/x-python",
   "name": "python",
   "nbconvert_exporter": "python",
   "pygments_lexer": "ipython3",
   "version": "3.9.12"
  }
 },
 "nbformat": 4,
 "nbformat_minor": 2
}
